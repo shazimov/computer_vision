{
 "cells": [
  {
   "cell_type": "markdown",
   "metadata": {},
   "source": [
    "## Project Submission\n",
    "\n",
    "When you are ready to submit your project, meaning you have checked the [rubric](https://review.udacity.com/#!/rubrics/1426/view) and made sure that you have completed all tasks and answered all questions. Then you are ready to compress your files and submit your solution!\n",
    "\n",
    "The following steps assume:\n",
    "1. All cells have been *run* in Notebooks 2 and 3 (and that progress has been saved).\n",
    "2. All questions in those notebooks have been answered.\n",
    "3. Your architecture in `models.py` is your best tested architecture.\n",
    "\n",
    "Please make sure all your work is saved before moving on. You do not need to change any code in these cells; this code is to help you submit your project, only.\n",
    "\n",
    "---\n",
    "\n",
    "The first thing we'll do, is convert your notebooks into `.html` files; these files will save the output of each cell and any code/text that you have modified and saved in those notebooks. Note that the first notebook is not included because its contents will not affect your project review."
   ]
  },
  {
   "cell_type": "code",
   "execution_count": 1,
   "metadata": {},
   "outputs": [
    {
     "name": "stdout",
     "output_type": "stream",
     "text": [
      "[NbConvertApp] Converting notebook 2. Define the Network Architecture.ipynb to html\n",
      "[NbConvertApp] Writing 856610 bytes to 2. Define the Network Architecture.html\n",
      "[NbConvertApp] Converting notebook 3. Facial Keypoint Detection, Complete Pipeline.ipynb to html\n",
      "[NbConvertApp] Writing 1101054 bytes to 3. Facial Keypoint Detection, Complete Pipeline.html\n",
      "[NbConvertApp] Converting notebook 4. Fun with Keypoints.ipynb to html\n",
      "[NbConvertApp] Writing 479607 bytes to 4. Fun with Keypoints.html\n"
     ]
    }
   ],
   "source": [
    "!jupyter nbconvert \"2. Define the Network Architecture.ipynb\"\n",
    "!jupyter nbconvert \"3. Facial Keypoint Detection, Complete Pipeline.ipynb\"\n",
    "!jupyter nbconvert \"4. Fun with Keypoints.ipynb\""
   ]
  },
  {
   "cell_type": "markdown",
   "metadata": {},
   "source": [
    "### Zip the project files\n",
    "\n",
    "Next, we'll zip all these notebook files and your `models.py` file into one compressed archive named `project1.zip`.\n",
    "\n",
    "After completing this step you should see this zip file appear in your home directory, where you can download it as seen in the image below, by selecting it from the list and clicking **Download**.\n",
    "\n",
    "<img src='images/download_ex.png' width=50% height=50%/>\n"
   ]
  },
  {
   "cell_type": "code",
   "execution_count": 2,
   "metadata": {},
   "outputs": [
    {
     "name": "stdout",
     "output_type": "stream",
     "text": [
      "updating: 2. Define the Network Architecture.html (deflated 52%)\n",
      "updating: models.py (deflated 59%)\n",
      "updating: 4. Fun with Keypoints.html (deflated 60%)\n",
      "updating: 3. Facial Keypoint Detection, Complete Pipeline.html (deflated 40%)\n"
     ]
    }
   ],
   "source": [
    "!!apt-get -y update && apt-get install -y zip\n",
    "!zip project1.zip -r . -i@filelist.txt"
   ]
  },
  {
   "cell_type": "markdown",
   "metadata": {},
   "source": [
    "### Submit Your Project\n",
    "\n",
    "After creating and downloading your zip file, click on the `Submit` button and follow the instructions for submitting your `project1.zip` file. Congratulations on completing this project and I hope you enjoyed it!"
   ]
  },
  {
   "cell_type": "code",
   "execution_count": null,
   "metadata": {},
   "outputs": [
    {
     "name": "stdout",
     "output_type": "stream",
     "text": [
      "updating: images/straw_hat.png (deflated 0%)\n",
      "updating: images/sunglasses.png (deflated 4%)\n",
      "updating: images/moustache.png (deflated 7%)\n",
      "updating: images/key_pts_example.png (deflated 1%)\n",
      "updating: images/the_beatles.jpg (deflated 0%)\n",
      "updating: images/mona_lisa.jpg (deflated 1%)\n",
      "updating: images/obamas.jpg (deflated 6%)\n",
      "updating: images/face_filter_ex.png (deflated 1%)\n",
      "updating: images/haar_cascade_ex.png (deflated 1%)\n",
      "updating: images/michelle_detected.png (deflated 2%)\n",
      "updating: images/feature_map_ex.png (deflated 2%)\n",
      "updating: images/landmarks_numbered.jpg (deflated 38%)\n",
      "updating: images/download_ex.png (deflated 11%)\n",
      "updating: detector_architectures/haarcascade_mcs_nose.xml (deflated 89%)\n",
      "updating: detector_architectures/haarcascade_eye.xml (deflated 85%)\n",
      "updating: detector_architectures/haarcascade_frontalface_default.xml (deflated 85%)\n",
      "updating: detector_architectures/haarcascade_smile.xml (deflated 84%)\n",
      "updating: 4. Fun with Keypoints.ipynb (deflated 27%)\n",
      "updating: 1. Load and Visualize Data.ipynb (deflated 53%)\n",
      "updating: workspace_utils.py (deflated 58%)\n",
      "updating: data_load.py (deflated 70%)\n",
      "updating: saved_models/model.pth (deflated 8%)\n",
      "updating: saved_models/keypoints_model.pt"
     ]
    }
   ],
   "source": [
    "!zip project.zip -r . -i@filelist1.txt"
   ]
  },
  {
   "cell_type": "code",
   "execution_count": null,
   "metadata": {},
   "outputs": [],
   "source": []
  }
 ],
 "metadata": {
  "kernelspec": {
   "display_name": "Python 3",
   "language": "python",
   "name": "python3"
  },
  "language_info": {
   "codemirror_mode": {
    "name": "ipython",
    "version": 3
   },
   "file_extension": ".py",
   "mimetype": "text/x-python",
   "name": "python",
   "nbconvert_exporter": "python",
   "pygments_lexer": "ipython3",
   "version": "3.6.3"
  }
 },
 "nbformat": 4,
 "nbformat_minor": 2
}
